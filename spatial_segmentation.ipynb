{
 "cells": [
  {
   "cell_type": "markdown",
   "id": "13b291b5",
   "metadata": {},
   "source": [
    "# Example"
   ]
  },
  {
   "cell_type": "code",
   "execution_count": 5,
   "id": "061ad07c",
   "metadata": {},
   "outputs": [],
   "source": [
    "# ! pip install matplotlib numpy scikit-learn pandas"
   ]
  },
  {
   "cell_type": "code",
   "execution_count": 7,
   "id": "8c060b9c",
   "metadata": {},
   "outputs": [],
   "source": [
    "import matplotlib.pyplot as plt \n",
    "from matplotlib.patches import Rectangle\n",
    "import pandas as pd \n",
    "import numpy as np\n",
    "from sklearn.cluster import HDBSCAN"
   ]
  },
  {
   "cell_type": "code",
   "execution_count": 8,
   "id": "0310b38e",
   "metadata": {},
   "outputs": [],
   "source": [
    "bboxes = np.array([\n",
    "    [0, 0, .2, .2],\n",
    "    [.22, 0, .42, .2],\n",
    "    [0, .22, .2, .4],\n",
    "    [0, .6, .2, .8],\n",
    "    [0.22, .6, .4, .8],\n",
    "    [0.6, .8, .8, 1],\n",
    "    [0.8, .0, 1, 0.2],\n",
    "    [0.8, .22, 1, 0.42],\n",
    "])\n",
    "\n",
    "x1, y1, x2, y2 = bboxes.T  # unpack columns\n",
    "\n",
    "# compute pairwise start ends of X\n",
    "start_x = np.maximum(x1[:, None], x1[None, :])\n",
    "end_x = np.minimum(x2[:, None], x2[None, :])\n",
    "dx = np.clip(start_x - end_x, 0, None)\n",
    "\n",
    "# compute pairwise start ends of Y\n",
    "start_y = np.maximum(y1[:, None], y1[None, :])\n",
    "end_y = np.minimum(y2[:, None], y2[None, :])\n",
    "dy = np.clip(start_y - end_y, 0, None)\n",
    "\n",
    "# # manhattan\n",
    "# D1 = dx + dy\n",
    "# euclidean\n",
    "D = np.hypot(dx, dy)\n",
    "A = ((1-dx)*(1-dy))"
   ]
  },
  {
   "cell_type": "code",
   "execution_count": 9,
   "id": "e2bef81a",
   "metadata": {},
   "outputs": [
    {
     "data": {
      "image/png": "[encoded data removed]",
      "text/plain": [
       "<Figure size 640x480 with 1 Axes>"
      ]
     },
     "metadata": {},
     "output_type": "display_data"
    }
   ],
   "source": [
    "fig, ax = plt.subplots()\n",
    "for x0, y0, x1, y1 in bboxes:\n",
    "    width = x1 - x0\n",
    "    height = y1 - y0\n",
    "    rect = Rectangle((x0, y0), width, height, fill=False)\n",
    "    ax.add_patch(rect)\n",
    "\n",
    "plt.scatter(((bboxes[:,0]+ bboxes[:,2]) / 2), ((bboxes[:,1]+ bboxes[:,3]) / 2), c= np.ones(len(bboxes)))\n",
    "ax.set_xlim(-0.1, 1.1)\n",
    "ax.set_ylim(-0.1, 1.1)\n",
    "ax.set_aspect('equal', 'box')\n",
    "plt.gca().invert_yaxis();"
   ]
  },
  {
   "cell_type": "markdown",
   "id": "1a14cf0f",
   "metadata": {},
   "source": [
    "### HDBSCAN"
   ]
  },
  {
   "cell_type": "code",
   "execution_count": 11,
   "id": "deff031b",
   "metadata": {},
   "outputs": [
    {
     "name": "stdout",
     "output_type": "stream",
     "text": [
      "0.01999999999999999\n",
      "0.020000000000000018\n"
     ]
    },
    {
     "data": {
      "image/png": "[encoded data removed]",
      "text/plain": [
       "<Figure size 640x480 with 1 Axes>"
      ]
     },
     "metadata": {},
     "output_type": "display_data"
    }
   ],
   "source": [
    "D_eps = np.quantile(D[np.triu_indices_from(D,1)], 0.05)\n",
    "print(D_eps)\n",
    "\n",
    "D2 = 1-A\n",
    "D2_eps = np.quantile(D2[np.triu_indices_from(D2,1)], 0.05)\n",
    "print(D2_eps)\n",
    "\n",
    "clusterer = HDBSCAN(\n",
    "  metric='precomputed',\n",
    "  min_cluster_size=2,\n",
    "  min_samples=1,\n",
    "  cluster_selection_epsilon=D_eps,\n",
    "  cluster_selection_method='eom'\n",
    ")\n",
    "\n",
    "labels_ = clusterer.fit_predict(D)\n",
    "fig, ax = plt.subplots()\n",
    "for x0, y0, x1, y1 in bboxes:\n",
    "    width = x1 - x0\n",
    "    height = y1 - y0\n",
    "    rect = Rectangle((x0, y0), width, height, fill=False)\n",
    "    ax.add_patch(rect)\n",
    "\n",
    "plt.scatter(((bboxes[:,0]+ bboxes[:,2]) / 2), ((bboxes[:,1]+ bboxes[:,3]) / 2), c= labels_)\n",
    "ax.set_xlim(-0.1, 1.1)\n",
    "ax.set_ylim(-0.1, 1.1)\n",
    "ax.set_aspect('equal', 'box')\n",
    "plt.gca().invert_yaxis();\n"
   ]
  }
 ],
 "metadata": {
  "kernelspec": {
   "display_name": ".venv",
   "language": "python",
   "name": "python3"
  },
  "language_info": {
   "codemirror_mode": {
    "name": "ipython",
    "version": 3
   },
   "file_extension": ".py",
   "mimetype": "text/x-python",
   "name": "python",
   "nbconvert_exporter": "python",
   "pygments_lexer": "ipython3",
   "version": "3.13.3"
  }
 },
 "nbformat": 4,
 "nbformat_minor": 5
}
